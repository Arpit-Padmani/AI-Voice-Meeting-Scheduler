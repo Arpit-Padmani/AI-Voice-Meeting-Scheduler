{
 "cells": [
  {
   "metadata": {},
   "cell_type": "code",
   "source": "!pip3 install notify2",
   "id": "f31fdbbaedf7b27f",
   "outputs": [],
   "execution_count": null
  },
  {
   "metadata": {},
   "cell_type": "code",
   "source": "!pip3 install schedule",
   "id": "7cdb22ecb3a7c5f9",
   "outputs": [],
   "execution_count": null
  },
  {
   "metadata": {},
   "cell_type": "code",
   "source": "!pip install espeak",
   "id": "bd3fabc101342646",
   "outputs": [],
   "execution_count": null
  },
  {
   "metadata": {
    "ExecuteTime": {
     "end_time": "2025-07-04T14:54:23.135088Z",
     "start_time": "2025-07-04T14:54:22.804788Z"
    }
   },
   "cell_type": "code",
   "source": [
    "    from plyer import notification\n",
    "\n",
    "    notification.notify(\n",
    "        title='My Custom Notification',\n",
    "        message='This is a message from my Python script!',\n",
    "        app_name='My Python App',\n",
    "        timeout=10  # Notification will disappear after 10 seconds\n",
    "    )"
   ],
   "id": "1a2a02f48c73d74b",
   "outputs": [],
   "execution_count": 8
  },
  {
   "metadata": {
    "ExecuteTime": {
     "end_time": "2025-07-04T14:55:19.284764Z",
     "start_time": "2025-07-04T14:55:04.199370Z"
    }
   },
   "cell_type": "code",
   "source": [
    "    from win10toast import ToastNotifier\n",
    "\n",
    "    toaster = ToastNotifier()\n",
    "    toaster.show_toast(\"My Custom Notification\", \"This is a message from my Python script!\", duration=15)"
   ],
   "id": "bbb293131fb06962",
   "outputs": [
    {
     "name": "stderr",
     "output_type": "stream",
     "text": [
      "WNDPROC return value cannot be converted to LRESULT\n"
     ]
    },
    {
     "ename": "TypeError",
     "evalue": "WPARAM is simple, so must be an int object (got NoneType)",
     "output_type": "error",
     "traceback": [
      "\u001B[31m---------------------------------------------------------------------------\u001B[39m",
      "\u001B[31mTypeError\u001B[39m                                 Traceback (most recent call last)",
      "\u001B[31mTypeError\u001B[39m: WPARAM is simple, so must be an int object (got NoneType)"
     ]
    },
    {
     "data": {
      "text/plain": [
       "True"
      ]
     },
     "execution_count": 10,
     "metadata": {},
     "output_type": "execute_result"
    }
   ],
   "execution_count": 10
  },
  {
   "metadata": {
    "ExecuteTime": {
     "end_time": "2025-07-04T14:52:21.564628Z",
     "start_time": "2025-07-04T14:52:21.535738Z"
    }
   },
   "cell_type": "code",
   "source": [
    "import requests\n",
    "import xml.etree.ElementTree as ET\n",
    "\n",
    "# url of news rss feed\n",
    "RSS_FEED_URL = \"http://www.hindustantimes.com/rss/topnews/rssfeed.xml\"\n",
    "\n",
    "def loadRSS():\n",
    "    '''\n",
    "    utility function to load RSS feed\n",
    "    '''\n",
    "    # create HTTP request response object\n",
    "    resp = requests.get(RSS_FEED_URL)\n",
    "\n",
    "    # return response content\n",
    "    return resp.content\n",
    "\n",
    "def parseXML(rss):\n",
    "    '''\n",
    "    utility function to parse XML format rss feed\n",
    "    '''\n",
    "    # create element tree root object\n",
    "    root = ET.fromstring(rss)\n",
    "\n",
    "    # create empty list for news items\n",
    "    newsitems = []\n",
    "\n",
    "    # iterate news items\n",
    "    for item in root.findall('./channel/item'):\n",
    "        news = {}\n",
    "\n",
    "        # iterate child elements of item\n",
    "        for child in item:\n",
    "\n",
    "            # special checking for namespace object content:media\n",
    "            if child.tag == '{http://search.yahoo.com/mrss/}content':\n",
    "                news['media'] = child.attrib['url']\n",
    "            else:\n",
    "                news[child.tag] = child.text.encode('utf8')\n",
    "        newsitems.append(news)\n",
    "\n",
    "    # return news items list\n",
    "    return newsitems\n",
    "\n",
    "def topStories():\n",
    "    '''\n",
    "    main function to generate and return news items\n",
    "    '''\n",
    "    # load rss feed\n",
    "    rss = loadRSS()\n",
    "\n",
    "    # parse XML\n",
    "    newsitems = parseXML(rss)\n",
    "    return newsitems"
   ],
   "id": "80cb44d1c26f4b4d",
   "outputs": [],
   "execution_count": 5
  },
  {
   "metadata": {},
   "cell_type": "code",
   "outputs": [],
   "execution_count": null,
   "source": "",
   "id": "8ed9d5ce0579bd0c"
  }
 ],
 "metadata": {
  "kernelspec": {
   "display_name": "Python 3",
   "language": "python",
   "name": "python3"
  },
  "language_info": {
   "codemirror_mode": {
    "name": "ipython",
    "version": 2
   },
   "file_extension": ".py",
   "mimetype": "text/x-python",
   "name": "python",
   "nbconvert_exporter": "python",
   "pygments_lexer": "ipython2",
   "version": "2.7.6"
  }
 },
 "nbformat": 4,
 "nbformat_minor": 5
}
