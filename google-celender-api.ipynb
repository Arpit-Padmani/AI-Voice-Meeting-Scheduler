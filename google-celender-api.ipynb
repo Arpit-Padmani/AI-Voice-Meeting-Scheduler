{
 "cells": [
  {
   "cell_type": "code",
   "id": "initial_id",
   "metadata": {
    "collapsed": true,
    "ExecuteTime": {
     "end_time": "2025-06-24T12:52:13.227326Z",
     "start_time": "2025-06-24T12:52:10.657705Z"
    }
   },
   "source": [
    "import datetime\n",
    "import os.path\n",
    "import json\n",
    "\n",
    "from IPython.core.formatters import JSONFormatter\n",
    "from google.auth.transport.requests import Request\n",
    "from google.oauth2.credentials import Credentials\n",
    "from google_auth_oauthlib.flow import InstalledAppFlow\n",
    "from googleapiclient.discovery import build\n",
    "from googleapiclient.errors import HttpError\n",
    "\n",
    "# If modifying these scopes, delete the file token.json.\n",
    "SCOPES = [\"https://www.googleapis.com/auth/calendar.readonly\"]\n",
    "\n",
    "\n",
    "def main():\n",
    "  \"\"\"Shows basic usage of the Google Calendar API.\n",
    "  Prints the start and name of the next 10 events on the user's calendar.\n",
    "  \"\"\"\n",
    "  creds = None\n",
    "  # The file token.json stores the user's access and refresh tokens, and is\n",
    "  # created automatically when the authorization flow completes for the first\n",
    "  # time.\n",
    "  if os.path.exists(\"token.json\"):\n",
    "    creds = Credentials.from_authorized_user_file(\"token.json\", SCOPES)\n",
    "  # If there are no (valid) credentials available, let the user log in.\n",
    "  if not creds or not creds.valid:\n",
    "    if creds and creds.expired and creds.refresh_token:\n",
    "      creds.refresh(Request())\n",
    "    else:\n",
    "      flow = InstalledAppFlow.from_client_secrets_file(\n",
    "          \"credentials.json\", SCOPES\n",
    "      )\n",
    "      creds = flow.run_local_server(port=8080,\n",
    "    redirect_uri_trailing_slash=False)\n",
    "    # Save the credentials for the next run\n",
    "    with open(\"token.json\", \"w\") as token:\n",
    "      token.write(creds.to_json())\n",
    "\n",
    "  try:\n",
    "    service = build(\"calendar\", \"v3\", credentials=creds)\n",
    "\n",
    "    # Call the Calendar API\n",
    "    now = datetime.datetime.now(tz=datetime.timezone.utc).isoformat()\n",
    "    print(\"Getting the upcoming 10 events\")\n",
    "    events_result = (\n",
    "        service.events()\n",
    "        .list(\n",
    "            calendarId=\"primary\",\n",
    "            timeMin=now,\n",
    "            maxResults=10,\n",
    "            singleEvents=True,\n",
    "            orderBy=\"startTime\",\n",
    "        )\n",
    "        .execute()\n",
    "    )\n",
    "    events = events_result.get(\"items\", [])\n",
    "\n",
    "    if not events:\n",
    "      print(\"No upcoming events found.\")\n",
    "      return\n",
    "    print(json.dumps(events))\n",
    "    # Prints the start and name of the next 10 events\n",
    "    for event in events:\n",
    "      start = event[\"start\"].get(\"dateTime\", event[\"start\"].get(\"date\"))\n",
    "      print(start, event[\"summary\"])\n",
    "\n",
    "  except HttpError as error:\n",
    "    print(f\"An error occurred: {error}\")\n",
    "\n",
    "\n",
    "if __name__ == \"__main__\":\n",
    "  main()"
   ],
   "outputs": [
    {
     "name": "stdout",
     "output_type": "stream",
     "text": [
      "Getting the upcoming 10 events\n",
      "[{\"kind\": \"calendar#event\", \"etag\": \"\\\"3498554241412798\\\"\", \"id\": \"38i94n5f30ndooveokqd0f8tit\", \"status\": \"confirmed\", \"htmlLink\": \"https://www.google.com/calendar/event?eid=MzhpOTRuNWYzMG5kb292ZW9rcWQwZjh0aXQgYXJwaXRwYWRtYW5pMTk3QG0\", \"created\": \"2025-06-07T06:18:40.000Z\", \"updated\": \"2025-06-07T06:18:40.706Z\", \"summary\": \"call pravinbhai for collect deposite \", \"creator\": {\"email\": \"arpitpadmani197@gmail.com\", \"self\": true}, \"organizer\": {\"email\": \"arpitpadmani197@gmail.com\", \"self\": true}, \"start\": {\"dateTime\": \"2025-07-18T15:00:00+05:30\", \"timeZone\": \"Asia/Kolkata\"}, \"end\": {\"dateTime\": \"2025-07-18T16:00:00+05:30\", \"timeZone\": \"Asia/Kolkata\"}, \"iCalUID\": \"38i94n5f30ndooveokqd0f8tit@google.com\", \"sequence\": 0, \"reminders\": {\"useDefault\": true}, \"eventType\": \"default\"}, {\"kind\": \"calendar#event\", \"etag\": \"\\\"3498561307356958\\\"\", \"id\": \"5bomn0lrjac4h2lksfj49n4c0v\", \"status\": \"confirmed\", \"htmlLink\": \"https://www.google.com/calendar/event?eid=NWJvbW4wbHJqYWM0aDJsa3NmajQ5bjRjMHYgYXJwaXRwYWRtYW5pMTk3QG0\", \"created\": \"2025-06-07T07:17:33.000Z\", \"updated\": \"2025-06-07T07:17:33.678Z\", \"summary\": \"Kerol turf last day renewal server only\", \"creator\": {\"email\": \"arpitpadmani197@gmail.com\", \"self\": true}, \"organizer\": {\"email\": \"arpitpadmani197@gmail.com\", \"self\": true}, \"start\": {\"dateTime\": \"2026-04-01T15:00:00+05:30\", \"timeZone\": \"Asia/Kolkata\"}, \"end\": {\"dateTime\": \"2026-04-01T16:00:00+05:30\", \"timeZone\": \"Asia/Kolkata\"}, \"iCalUID\": \"5bomn0lrjac4h2lksfj49n4c0v@google.com\", \"sequence\": 0, \"reminders\": {\"useDefault\": true}, \"eventType\": \"default\"}, {\"kind\": \"calendar#event\", \"etag\": \"\\\"3498561278959806\\\"\", \"id\": \"4ckms4bsb5lps198otejt92821\", \"status\": \"confirmed\", \"htmlLink\": \"https://www.google.com/calendar/event?eid=NGNrbXM0YnNiNWxwczE5OG90ZWp0OTI4MjEgYXJwaXRwYWRtYW5pMTk3QG0\", \"created\": \"2025-06-07T07:17:19.000Z\", \"updated\": \"2025-06-07T07:17:19.479Z\", \"summary\": \"Kerol turf last day renewal server only\", \"creator\": {\"email\": \"arpitpadmani197@gmail.com\", \"self\": true}, \"organizer\": {\"email\": \"arpitpadmani197@gmail.com\", \"self\": true}, \"start\": {\"dateTime\": \"2026-05-01T15:00:00+05:30\", \"timeZone\": \"Asia/Kolkata\"}, \"end\": {\"dateTime\": \"2026-05-01T16:00:00+05:30\", \"timeZone\": \"Asia/Kolkata\"}, \"iCalUID\": \"4ckms4bsb5lps198otejt92821@google.com\", \"sequence\": 0, \"reminders\": {\"useDefault\": true}, \"eventType\": \"default\"}]\n",
      "2025-07-18T15:00:00+05:30 call pravinbhai for collect deposite \n",
      "2026-04-01T15:00:00+05:30 Kerol turf last day renewal server only\n",
      "2026-05-01T15:00:00+05:30 Kerol turf last day renewal server only\n"
     ]
    }
   ],
   "execution_count": 2
  },
  {
   "metadata": {},
   "cell_type": "code",
   "source": "",
   "id": "79ea50b7f1f71ab6",
   "outputs": [],
   "execution_count": null
  },
  {
   "metadata": {},
   "cell_type": "markdown",
   "source": "f",
   "id": "447e53ad840c09f9"
  }
 ],
 "metadata": {
  "kernelspec": {
   "display_name": "Python 3",
   "language": "python",
   "name": "python3"
  },
  "language_info": {
   "codemirror_mode": {
    "name": "ipython",
    "version": 2
   },
   "file_extension": ".py",
   "mimetype": "text/x-python",
   "name": "python",
   "nbconvert_exporter": "python",
   "pygments_lexer": "ipython2",
   "version": "2.7.6"
  }
 },
 "nbformat": 4,
 "nbformat_minor": 5
}
