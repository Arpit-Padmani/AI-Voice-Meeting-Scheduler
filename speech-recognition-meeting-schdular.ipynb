{
 "cells": [
  {
   "cell_type": "code",
   "id": "initial_id",
   "metadata": {
    "collapsed": true,
    "ExecuteTime": {
     "end_time": "2025-07-05T13:36:16.126401Z",
     "start_time": "2025-07-05T13:36:15.774890Z"
    }
   },
   "source": [
    "import spacy\n",
    "import dateparser\n",
    "from torch.onnx.symbolic_opset11 import remainder\n",
    "\n",
    "from google_calendar_module import GoogleCalendarAPI\n",
    "import datetime\n",
    "import time"
   ],
   "outputs": [],
   "execution_count": 4
  },
  {
   "metadata": {
    "ExecuteTime": {
     "end_time": "2025-07-05T13:36:22.402943Z",
     "start_time": "2025-07-05T13:36:16.148416Z"
    }
   },
   "cell_type": "code",
   "source": "nlp = spacy.load(\"en_core_web_sm\")",
   "id": "7e5c787bd21fe223",
   "outputs": [],
   "execution_count": 5
  },
  {
   "metadata": {},
   "cell_type": "markdown",
   "source": "# Text to Speech",
   "id": "9911c67d48243e56"
  },
  {
   "metadata": {
    "ExecuteTime": {
     "end_time": "2025-07-05T13:36:22.454971Z",
     "start_time": "2025-07-05T13:36:22.413966Z"
    }
   },
   "cell_type": "code",
   "source": [
    "# text_to_speech.py\n",
    "import pyttsx3\n",
    "\n",
    "def speak_text(text):\n",
    "    engine = pyttsx3.init()\n",
    "    rate = engine.getProperty('rate')\n",
    "    engine.setProperty('rate', rate - 50)\n",
    "    engine.setProperty('volume', 1)\n",
    "    voices = engine.getProperty('voices')\n",
    "    engine.setProperty('voice', voices[-1].id)\n",
    "    engine.say(text)\n",
    "    engine.runAndWait()\n"
   ],
   "id": "4f88f843c6a7a02a",
   "outputs": [],
   "execution_count": 6
  },
  {
   "metadata": {
    "ExecuteTime": {
     "end_time": "2025-07-05T13:36:42.723705Z",
     "start_time": "2025-07-05T13:36:22.461516Z"
    }
   },
   "cell_type": "code",
   "source": [
    "speak_text(\"Hello! I am your voice meeting assistant. Let's schedule your meeting.\")\n",
    "# time.sleep(1.5)\n",
    "\n",
    "speak_text(\"You can say something like, schedule my meeting with Rajbhai on fourth July at five PM.\")\n",
    "# time.sleep(1.5)\n",
    "\n",
    "speak_text(\"I'm ready. Tell me your meeting information.\")"
   ],
   "id": "b7e764fd669af8e7",
   "outputs": [],
   "execution_count": 7
  },
  {
   "metadata": {},
   "cell_type": "markdown",
   "source": "# Remainder Ask",
   "id": "6236da3e1d8dff61"
  },
  {
   "metadata": {
    "ExecuteTime": {
     "end_time": "2025-07-05T13:37:57.792021Z",
     "start_time": "2025-07-05T13:37:39.860613Z"
    }
   },
   "cell_type": "code",
   "source": [
    "import speech_recognition as sr\n",
    "r = sr.Recognizer()\n",
    "# Use the default microphone as the audio source\n",
    "text = \"\"\n",
    "def listen_and_recognize(attempt=1, max_attempts=2):\n",
    "    with sr.Microphone() as source:\n",
    "        r.adjust_for_ambient_noise(source)\n",
    "        # speak_text(f\"Attempt {attempt} of {max_attempts}. Please say something.\")\n",
    "        speak_text(\"Please say something\")\n",
    "        print(f\"Attempt {attempt} of {max_attempts}. Please say something.\")\n",
    "        print(\"Listening...\")\n",
    "\n",
    "        try:\n",
    "            audio = r.listen(source, timeout=20, phrase_time_limit=7)\n",
    "            speak_text(\"Time over, processing now\")\n",
    "            text = r.recognize_google(audio)\n",
    "            print(f\"Recognized: {text}\")\n",
    "            speak_text(f\"You said: {text}\")\n",
    "            return text\n",
    "\n",
    "            # Check for silence (empty or whitespace only)\n",
    "            if not text.strip():\n",
    "                raise sr.UnknownValueError\n",
    "\n",
    "\n",
    "        except sr.WaitTimeoutError:\n",
    "            speak_text(\"You didn't say anything.\")\n",
    "            if attempt < max_attempts:\n",
    "                speak_text(\"Let's try again.\")\n",
    "                listen_and_recognize(attempt + 1, max_attempts)\n",
    "            else:\n",
    "                speak_text(\"You have reached your limit. Please try again later.\")\n",
    "\n",
    "        except sr.UnknownValueError:\n",
    "            speak_text(\"Sorry, I did not catch that.\")\n",
    "            if attempt < max_attempts:\n",
    "                speak_text(\"Let's try again.\")\n",
    "                listen_and_recognize(attempt + 1, max_attempts)\n",
    "            else:\n",
    "                speak_text(\"You have reached your limit. Please try again later.\")\n",
    "\n",
    "        except sr.RequestError as e:\n",
    "            speak_text(f\"Error from Google Speech service: {e}\")\n",
    "            # Do not retry for service errors\n",
    "\n",
    "# Start listening\n",
    "text = listen_and_recognize()\n",
    "print(text)"
   ],
   "id": "a7211e8bc5450aed",
   "outputs": [
    {
     "name": "stdout",
     "output_type": "stream",
     "text": [
      "Attempt 1 of 2. Please say something.\n",
      "Listening...\n",
      "Recognized: meeting today at 7:20 p.m.\n",
      "meeting today at 7:20 p.m.\n"
     ]
    }
   ],
   "execution_count": 10
  },
  {
   "metadata": {
    "ExecuteTime": {
     "end_time": "2025-07-05T13:38:01.044969Z",
     "start_time": "2025-07-05T13:38:00.986816Z"
    }
   },
   "cell_type": "code",
   "source": "# text = \"schedule my meeting with Raj Bhai at 6 july 5:00 p.m.\"",
   "id": "4cf9d767bde24848",
   "outputs": [],
   "execution_count": 11
  },
  {
   "metadata": {},
   "cell_type": "markdown",
   "source": "# For Remainder Response",
   "id": "9e958a9c20a48d56"
  },
  {
   "metadata": {
    "ExecuteTime": {
     "end_time": "2025-07-05T13:38:02.925110Z",
     "start_time": "2025-07-05T13:38:02.899226Z"
    }
   },
   "cell_type": "code",
   "source": [
    "def listen_for_response(attempt=1, max_attempts=2):\n",
    "    recognizer = sr.Recognizer()\n",
    "\n",
    "    with sr.Microphone() as source:\n",
    "        recognizer.adjust_for_ambient_noise(source)\n",
    "\n",
    "        speak_text(\"Please say yes or no.\")\n",
    "        print(f\"Attempt {attempt} of {max_attempts}. Listening...\")\n",
    "\n",
    "        try:\n",
    "            audio = recognizer.listen(source, timeout=15, phrase_time_limit=7)\n",
    "            speak_text(\"Processing your response now.\")\n",
    "            response = recognizer.recognize_google(audio)\n",
    "            print(f\"Recognized: {response}\")\n",
    "            speak_text(f\"You said: {response}\")\n",
    "            return response\n",
    "\n",
    "        except sr.WaitTimeoutError:\n",
    "            speak_text(\"You didn't say anything.\")\n",
    "\n",
    "        except sr.UnknownValueError:\n",
    "            speak_text(\"Sorry, I did not catch that.\")\n",
    "\n",
    "        except sr.RequestError as e:\n",
    "            speak_text(f\"Google Speech service error: {e}\")\n",
    "            return \"\"\n",
    "\n",
    "    # Retry if not successful and attempts remain\n",
    "    if attempt < max_attempts:\n",
    "        speak_text(\"Let's try again.\")\n",
    "        return listen_for_response(attempt + 1, max_attempts)\n",
    "    else:\n",
    "        speak_text(\"You have reached the maximum number of tries. Please try again later.\")\n",
    "        return \"\"\n",
    "# res=listen_for_response()\n",
    "# res  = \"yes yes\"\n"
   ],
   "id": "349ba9e838eab3a2",
   "outputs": [],
   "execution_count": 12
  },
  {
   "metadata": {},
   "cell_type": "markdown",
   "source": "# Extract details form raw text and set in to google celender",
   "id": "f2c47467baca4ebc"
  },
  {
   "metadata": {
    "ExecuteTime": {
     "end_time": "2025-07-05T13:40:17.356772Z",
     "start_time": "2025-07-05T13:39:34.079662Z"
    }
   },
   "cell_type": "code",
   "source": [
    "meeting_book_keywords = [\"schedule\", \"set up\", \"book\", \"arrange\", \"add meeting\",\"meeting\", \"plan\"]\n",
    "# Static recognized sentence (like from speech input)\n",
    "# text = \"Schedule my meeting with Raj at tomorrow at 4 pm \"\n",
    "lower_text = text.lower()\n",
    "\n",
    "meeting_info = {\n",
    "    \"intent\": None,\n",
    "    \"title\": None,\n",
    "    \"person\": None,\n",
    "    \"raw_date_time\": None,\n",
    "    \"datetime\": None\n",
    "}\n",
    "\n",
    "def contains_meeting_keywords(text, keywords):\n",
    "    text = text.lower()\n",
    "    return any(keyword in text for keyword in keywords)\n",
    "if contains_meeting_keywords(lower_text, meeting_book_keywords):\n",
    "    speak_text(\"Great, I heard a meeting-related request. Let me check the details.\")\n",
    "\n",
    "    meeting_info[\"intent\"] = \"schedule_meeting\"\n",
    "    doc = nlp(text)\n",
    "\n",
    "    date_str = \"\"\n",
    "    for ent in doc.ents:\n",
    "        if ent.label_ in [\"DATE\", \"TIME\"]:\n",
    "            date_str += ent.text + \" \"\n",
    "        elif ent.label_ == \"PERSON\":\n",
    "            meeting_info[\"person\"] = ent.text\n",
    "\n",
    "    date_str = date_str.strip()\n",
    "    meeting_info[\"raw_date_time\"] = date_str\n",
    "\n",
    "    # Parse the date safely, with fallback to current datetime\n",
    "    try:\n",
    "        parsed_date = dateparser.parse(date_str) if date_str else None\n",
    "        if not parsed_date:\n",
    "            raise ValueError(\"Parsed date is None\")\n",
    "    except Exception as e:\n",
    "        print(f\"Date parsing failed: {e}\")\n",
    "        parsed_date = datetime.datetime.now()\n",
    "        speak_text(\"I couldn't understand the date, so I'm setting it to the current time.\")\n",
    "\n",
    "    meeting_info[\"datetime\"] = str(parsed_date)\n",
    "\n",
    "    # Optional: set title using person if found\n",
    "    if meeting_info[\"person\"]:\n",
    "        meeting_info[\"title\"] = f\"Meeting with {meeting_info['person']}\"\n",
    "        speak_text(f\"Scheduling a meeting with {meeting_info['person']}.\")\n",
    "    else:\n",
    "        meeting_info[\"title\"] = \"Scheduled Meeting\"\n",
    "        speak_text(\"Scheduling a meeting.\")\n",
    "\n",
    "\n",
    "\n",
    "    # For Remainder Yes OR NO\n",
    "    speak_text(\"Would you like a reminder for this meeting?\")\n",
    "    # response = listen_for_response()\n",
    "\n",
    "    # Define affirmative keywords\n",
    "    affirmative_keywords = [\n",
    "        \"yes\", \"yeah\", \"sure\", \"absolutely\", \"of course\",  \"set it\"\n",
    "    ]\n",
    "\n",
    "    # Normalize response and check\n",
    "    # response_cleaned = res.lower().strip()\n",
    "    response_cleaned = 'yes'\n",
    "    reminder_required = any(keyword in response_cleaned for keyword in affirmative_keywords)\n",
    "    if reminder_required:\n",
    "        speak_text(\"Okay, I'll set a reminder 10 minutes before.\")\n",
    "    else:\n",
    "        speak_text(\"Alright, I won't set a reminder.\")\n",
    "\n",
    "    # Confirm details with user\n",
    "    speak_text(f\"Meeting is set for {parsed_date.strftime('%A, %d %B at %I:%M %p')}.\")\n",
    "    print(meeting_info)\n",
    "\n",
    "    googleCelender = GoogleCalendarAPI()\n",
    "\n",
    "    # Speak and insert event\n",
    "    speak_text(\"Adding it to your Google Calendar now.\")\n",
    "    googleCelender.insertEventToGooleCelender(meeting_info,reminder_required)\n",
    "\n",
    "    speak_text(\"Here are your upcoming meetings.\")\n",
    "    print(\"---\" * 10)\n",
    "    googleCelender.getAllEvenets()\n",
    "\n",
    "\n",
    "else:\n",
    "    speak_text(\"Sorry, I did not hear anything about a meeting. Please try again later.\")\n",
    "\n"
   ],
   "id": "dcb5a2541d400e9c",
   "outputs": [
    {
     "name": "stdout",
     "output_type": "stream",
     "text": [
      "{'intent': 'schedule_meeting', 'title': 'Scheduled Meeting', 'person': None, 'raw_date_time': 'today 7:20 p.m.', 'datetime': '2025-07-05 19:20:00'}\n",
      "Event fetched successfully:\n",
      "{'kind': 'calendar#event', 'etag': '\"3503445611704222\"', 'id': '62i0jer2h4kh4gqdcgoh8kcfi4', 'status': 'confirmed', 'htmlLink': 'https://www.google.com/calendar/event?eid=NjJpMGplcjJoNGtoNGdxZGNnb2g4a2NmaTQgYXJwaXRwYWRtYW5pMTk3QG0', 'created': '2025-07-05T13:40:05.000Z', 'updated': '2025-07-05T13:40:05.852Z', 'summary': 'Scheduled Meeting', 'creator': {'email': 'arpitpadmani197@gmail.com', 'self': True}, 'organizer': {'email': 'arpitpadmani197@gmail.com', 'self': True}, 'start': {'dateTime': '2025-07-05T19:20:00+05:30', 'timeZone': 'America/Los_Angeles'}, 'end': {'dateTime': '2025-07-06T07:20:00+05:30', 'timeZone': 'America/Los_Angeles'}, 'iCalUID': '62i0jer2h4kh4gqdcgoh8kcfi4@google.com', 'sequence': 0, 'reminders': {'useDefault': False, 'overrides': [{'method': 'popup', 'minutes': 10}]}, 'eventType': 'default'}\n",
      "------------------------------\n"
     ]
    }
   ],
   "execution_count": 14
  },
  {
   "metadata": {},
   "cell_type": "markdown",
   "source": "",
   "id": "9c984e2fa20d6901"
  }
 ],
 "metadata": {
  "kernelspec": {
   "display_name": "Python 3",
   "language": "python",
   "name": "python3"
  },
  "language_info": {
   "codemirror_mode": {
    "name": "ipython",
    "version": 2
   },
   "file_extension": ".py",
   "mimetype": "text/x-python",
   "name": "python",
   "nbconvert_exporter": "python",
   "pygments_lexer": "ipython2",
   "version": "2.7.6"
  }
 },
 "nbformat": 4,
 "nbformat_minor": 5
}
