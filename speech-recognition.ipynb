{
 "cells": [
  {
   "cell_type": "code",
   "id": "initial_id",
   "metadata": {
    "collapsed": true,
    "ExecuteTime": {
     "end_time": "2025-06-21T14:51:29.602738Z",
     "start_time": "2025-06-21T14:51:29.576727Z"
    }
   },
   "source": "print(\"Hello\")",
   "outputs": [
    {
     "name": "stdout",
     "output_type": "stream",
     "text": [
      "Hello\n"
     ]
    }
   ],
   "execution_count": 2
  },
  {
   "metadata": {
    "ExecuteTime": {
     "end_time": "2025-06-24T11:02:30.607567Z",
     "start_time": "2025-06-24T11:02:16.745363Z"
    }
   },
   "cell_type": "code",
   "source": [
    "import speech_recognition as sr\n",
    "r = sr.Recognizer()\n",
    "\n",
    "# Use the default microphone as the audio source\n",
    "with sr.Microphone() as source:\n",
    "    print(\"Say something!\")\n",
    "    r.adjust_for_ambient_noise(source)\n",
    "    audio = r.listen(source)\n",
    "    print(\"Time over, thanks\")\n",
    "\n",
    "try:\n",
    "    text = r.recognize_google(audio)\n",
    "    print(f\"You said: {text}\")\n",
    "except sr.UnknownValueError:\n",
    "    print(\"Sorry, I did not get that\")\n",
    "except sr.RequestError as e:\n",
    "    print(f\"Could not request results from Google Speech Recognition service; {e}\")\n",
    "\n"
   ],
   "id": "98475baf3e7bb1d5",
   "outputs": [
    {
     "name": "stdout",
     "output_type": "stream",
     "text": [
      "Say something!\n",
      "Time over, thanks\n",
      "Sorry, I did not get that\n"
     ]
    }
   ],
   "execution_count": 8
  },
  {
   "metadata": {
    "ExecuteTime": {
     "end_time": "2025-06-24T10:57:04.084884Z",
     "start_time": "2025-06-24T10:57:03.187842Z"
    }
   },
   "cell_type": "code",
   "source": [
    "for index, name in enumerate(sr.Microphone.list_microphone_names()):\n",
    "    print(\"Microphone with name \\\"{1}\\\" found for `Microphone(device_index={0})`\".format(index, name))"
   ],
   "id": "cefd48f9af972b11",
   "outputs": [
    {
     "name": "stdout",
     "output_type": "stream",
     "text": [
      "Microphone with name \"Microsoft Sound Mapper - Input\" found for `Microphone(device_index=0)`\n",
      "Microphone with name \"Microphone (Realtek(R) Audio)\" found for `Microphone(device_index=1)`\n",
      "Microphone with name \"Headset (Airdopes 141)\" found for `Microphone(device_index=2)`\n",
      "Microphone with name \"Microsoft Sound Mapper - Output\" found for `Microphone(device_index=3)`\n",
      "Microphone with name \"Headphones (Airdopes 141)\" found for `Microphone(device_index=4)`\n",
      "Microphone with name \"Speakers (Realtek(R) Audio)\" found for `Microphone(device_index=5)`\n",
      "Microphone with name \"Primary Sound Capture Driver\" found for `Microphone(device_index=6)`\n",
      "Microphone with name \"Microphone (Realtek(R) Audio)\" found for `Microphone(device_index=7)`\n",
      "Microphone with name \"Headset (Airdopes 141)\" found for `Microphone(device_index=8)`\n",
      "Microphone with name \"Primary Sound Driver\" found for `Microphone(device_index=9)`\n",
      "Microphone with name \"Headphones (Airdopes 141)\" found for `Microphone(device_index=10)`\n",
      "Microphone with name \"Speakers (Realtek(R) Audio)\" found for `Microphone(device_index=11)`\n",
      "Microphone with name \"Headphones (Airdopes 141)\" found for `Microphone(device_index=12)`\n",
      "Microphone with name \"Speakers (Realtek(R) Audio)\" found for `Microphone(device_index=13)`\n",
      "Microphone with name \"Microphone (Realtek(R) Audio)\" found for `Microphone(device_index=14)`\n",
      "Microphone with name \"Headset (Airdopes 141)\" found for `Microphone(device_index=15)`\n",
      "Microphone with name \"Microphone (Realtek HD Audio Mic input)\" found for `Microphone(device_index=16)`\n",
      "Microphone with name \"Speakers 1 (Realtek HD Audio output with HAP)\" found for `Microphone(device_index=17)`\n",
      "Microphone with name \"Speakers 2 (Realtek HD Audio output with HAP)\" found for `Microphone(device_index=18)`\n",
      "Microphone with name \"PC Speaker (Realtek HD Audio output with HAP)\" found for `Microphone(device_index=19)`\n",
      "Microphone with name \"Microphone (Realtek Digital Microphone)\" found for `Microphone(device_index=20)`\n",
      "Microphone with name \"Headphones (Realtek HD Audio 2nd output)\" found for `Microphone(device_index=21)`\n",
      "Microphone with name \"Stereo Mix (Realtek HD Audio Stereo input)\" found for `Microphone(device_index=22)`\n",
      "Microphone with name \"Headset (@System32\\drivers\\bthhfenum.sys,#2;%1 Hands-Free%0\r\n",
      ";(Airdopes 141))\" found for `Microphone(device_index=23)`\n",
      "Microphone with name \"Headset (@System32\\drivers\\bthhfenum.sys,#2;%1 Hands-Free%0\r\n",
      ";(Airdopes 141))\" found for `Microphone(device_index=24)`\n",
      "Microphone with name \"Headset (@System32\\drivers\\bthhfenum.sys,#2;%1 Hands-Free%0\r\n",
      ";(realme Buds T300))\" found for `Microphone(device_index=25)`\n",
      "Microphone with name \"Headset (@System32\\drivers\\bthhfenum.sys,#2;%1 Hands-Free%0\r\n",
      ";(realme Buds T300))\" found for `Microphone(device_index=26)`\n",
      "Microphone with name \"Headphones ()\" found for `Microphone(device_index=27)`\n",
      "Microphone with name \"Headphones ()\" found for `Microphone(device_index=28)`\n",
      "Microphone with name \"Output (@System32\\drivers\\bthhfenum.sys,#4;%1 Hands-Free HF Audio%0\r\n",
      ";(Redmi 9 Power))\" found for `Microphone(device_index=29)`\n",
      "Microphone with name \"Input (@System32\\drivers\\bthhfenum.sys,#4;%1 Hands-Free HF Audio%0\r\n",
      ";(Redmi 9 Power))\" found for `Microphone(device_index=30)`\n",
      "Microphone with name \"Headphones ()\" found for `Microphone(device_index=31)`\n",
      "Microphone with name \"Headset (@System32\\drivers\\bthhfenum.sys,#2;%1 Hands-Free%0\r\n",
      ";(Stone 180))\" found for `Microphone(device_index=32)`\n",
      "Microphone with name \"Headset (@System32\\drivers\\bthhfenum.sys,#2;%1 Hands-Free%0\r\n",
      ";(Stone 180))\" found for `Microphone(device_index=33)`\n",
      "Microphone with name \"Headphones ()\" found for `Microphone(device_index=34)`\n",
      "Microphone with name \"Headset (@System32\\drivers\\bthhfenum.sys,#2;%1 Hands-Free%0\r\n",
      ";(Airdopes 141))\" found for `Microphone(device_index=35)`\n",
      "Microphone with name \"Headset (@System32\\drivers\\bthhfenum.sys,#2;%1 Hands-Free%0\r\n",
      ";(Airdopes 141))\" found for `Microphone(device_index=36)`\n",
      "Microphone with name \"Input ()\" found for `Microphone(device_index=37)`\n"
     ]
    }
   ],
   "execution_count": 3
  },
  {
   "metadata": {},
   "cell_type": "code",
   "outputs": [],
   "execution_count": null,
   "source": "",
   "id": "c296eeea243ec23c"
  }
 ],
 "metadata": {
  "kernelspec": {
   "display_name": "Python 3",
   "language": "python",
   "name": "python3"
  },
  "language_info": {
   "codemirror_mode": {
    "name": "ipython",
    "version": 2
   },
   "file_extension": ".py",
   "mimetype": "text/x-python",
   "name": "python",
   "nbconvert_exporter": "python",
   "pygments_lexer": "ipython2",
   "version": "2.7.6"
  }
 },
 "nbformat": 4,
 "nbformat_minor": 5
}
