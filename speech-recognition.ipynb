{
 "cells": [
  {
   "metadata": {},
   "cell_type": "markdown",
   "source": "# Speech to Text using speech_recognition",
   "id": "fb9f098d183b8fcb"
  },
  {
   "metadata": {},
   "cell_type": "code",
   "source": [
    "import speech_recognition as sr\n",
    "r = sr.Recognizer()\n",
    "\n",
    "# Use the default microphone as the audio source\n",
    "with sr.Microphone() as source:\n",
    "    print(\"Say something!\")\n",
    "    r.adjust_for_ambient_noise(source)\n",
    "    audio = r.listen(source)\n",
    "    print(\"Time over, thanks\")\n",
    "\n",
    "try:\n",
    "    text = r.recognize_google(audio)\n",
    "    print(f\"You said: {text}\")\n",
    "except sr.UnknownValueError:\n",
    "    print(\"Sorry, I did not get that\")\n",
    "except sr.RequestError as e:\n",
    "    print(f\"Could not request results from Google Speech Recognition service; {e}\")\n",
    "\n"
   ],
   "id": "98475baf3e7bb1d5",
   "outputs": [],
   "execution_count": null
  },
  {
   "metadata": {},
   "cell_type": "code",
   "source": [
    "for index, name in enumerate(sr.Microphone.list_microphone_names()):\n",
    "    print(\"Microphone with name \\\"{1}\\\" found for `Microphone(device_index={0})`\".format(index, name))"
   ],
   "id": "cefd48f9af972b11",
   "outputs": [],
   "execution_count": null
  },
  {
   "metadata": {},
   "cell_type": "markdown",
   "source": "# Text to Speech Using pyttsx3",
   "id": "45b89987a408519b"
  },
  {
   "metadata": {},
   "cell_type": "code",
   "source": "# pip install pypiwin32",
   "id": "b75d0ed593f9619a",
   "outputs": [],
   "execution_count": null
  },
  {
   "metadata": {
    "ExecuteTime": {
     "end_time": "2025-07-01T17:13:26.241371Z",
     "start_time": "2025-07-01T17:13:24.240829Z"
    }
   },
   "cell_type": "code",
   "source": [
    "import pyttsx3\n",
    "engine = pyttsx3.init()"
   ],
   "id": "4a8248adcc4b1860",
   "outputs": [],
   "execution_count": 2
  },
  {
   "metadata": {
    "ExecuteTime": {
     "end_time": "2025-07-01T17:13:26.287444Z",
     "start_time": "2025-07-01T17:13:26.266406Z"
    }
   },
   "cell_type": "code",
   "source": [
    "rate = engine.getProperty('rate')\n",
    "engine.setProperty('rate', rate - 50)\n",
    "engine.setProperty('volume', 1)\n",
    "voices = engine.getProperty('voices')\n",
    "engine.setProperty('voice', voices[0].id)"
   ],
   "id": "992f8292ad737911",
   "outputs": [],
   "execution_count": 3
  },
  {
   "metadata": {
    "ExecuteTime": {
     "end_time": "2025-07-01T17:13:35.884417Z",
     "start_time": "2025-07-01T17:13:26.804121Z"
    }
   },
   "cell_type": "code",
   "source": [
    "engine.say(\"Hello sir, set my meeting at 3:45:25 PM .\")\n",
    "engine.runAndWait()"
   ],
   "id": "a17ec4b317ccc633",
   "outputs": [],
   "execution_count": 4
  },
  {
   "metadata": {},
   "cell_type": "markdown",
   "source": "### Chnaging Voice",
   "id": "b43dd0d76fce00f6"
  },
  {
   "metadata": {
    "ExecuteTime": {
     "end_time": "2025-07-01T17:14:36.086640Z",
     "start_time": "2025-07-01T17:14:35.841712Z"
    }
   },
   "cell_type": "code",
   "source": [
    "engine = pyttsx3.init()\n",
    "voices = engine.getProperty('voices')\n",
    "for voice in voices:\n",
    "   print(voice)\n",
    "   engine.setProperty('voice', voice.id)\n",
    "   engine.say('The quick brown fox jumped over the lazy dog.')\n",
    "engine.runAndWait()"
   ],
   "id": "399759811365bb1c",
   "outputs": [
    {
     "name": "stdout",
     "output_type": "stream",
     "text": [
      "<Voice id=HKEY_LOCAL_MACHINE\\SOFTWARE\\Microsoft\\Speech\\Voices\\Tokens\\TTS_MS_EN-US_DAVID_11.0\n",
      "          name=Microsoft David Desktop - English (United States)\n",
      "          languages=[]\n",
      "          gender=None\n",
      "          age=None>\n",
      "<Voice id=HKEY_LOCAL_MACHINE\\SOFTWARE\\Microsoft\\Speech\\Voices\\Tokens\\TTS_MS_EN-US_ZIRA_11.0\n",
      "          name=Microsoft Zira Desktop - English (United States)\n",
      "          languages=[]\n",
      "          gender=None\n",
      "          age=None>\n"
     ]
    },
    {
     "ename": "RuntimeError",
     "evalue": "run loop already started",
     "output_type": "error",
     "traceback": [
      "\u001B[31m---------------------------------------------------------------------------\u001B[39m",
      "\u001B[31mRuntimeError\u001B[39m                              Traceback (most recent call last)",
      "\u001B[36mCell\u001B[39m\u001B[36m \u001B[39m\u001B[32mIn[8]\u001B[39m\u001B[32m, line 7\u001B[39m\n\u001B[32m      5\u001B[39m    engine.setProperty(\u001B[33m'\u001B[39m\u001B[33mvoice\u001B[39m\u001B[33m'\u001B[39m, voice.id)\n\u001B[32m      6\u001B[39m    engine.say(\u001B[33m'\u001B[39m\u001B[33mThe quick brown fox jumped over the lazy dog.\u001B[39m\u001B[33m'\u001B[39m)\n\u001B[32m----> \u001B[39m\u001B[32m7\u001B[39m \u001B[43mengine\u001B[49m\u001B[43m.\u001B[49m\u001B[43mrunAndWait\u001B[49m\u001B[43m(\u001B[49m\u001B[43m)\u001B[49m\n",
      "\u001B[36mFile \u001B[39m\u001B[32mE:\\Speech Recognition python\\.venv\\Lib\\site-packages\\pyttsx3\\engine.py:180\u001B[39m, in \u001B[36mEngine.runAndWait\u001B[39m\u001B[34m(self)\u001B[39m\n\u001B[32m    172\u001B[39m \u001B[38;5;250m\u001B[39m\u001B[33;03m\"\"\"\u001B[39;00m\n\u001B[32m    173\u001B[39m \u001B[33;03mRuns an event loop until all commands queued up until this method call\u001B[39;00m\n\u001B[32m    174\u001B[39m \u001B[33;03mcomplete. Blocks during the event loop and returns when the queue is\u001B[39;00m\n\u001B[32m   (...)\u001B[39m\u001B[32m    177\u001B[39m \u001B[33;03m@raise RuntimeError: When the loop is already running\u001B[39;00m\n\u001B[32m    178\u001B[39m \u001B[33;03m\"\"\"\u001B[39;00m\n\u001B[32m    179\u001B[39m \u001B[38;5;28;01mif\u001B[39;00m \u001B[38;5;28mself\u001B[39m._inLoop:\n\u001B[32m--> \u001B[39m\u001B[32m180\u001B[39m     \u001B[38;5;28;01mraise\u001B[39;00m \u001B[38;5;167;01mRuntimeError\u001B[39;00m(\u001B[33m'\u001B[39m\u001B[33mrun loop already started\u001B[39m\u001B[33m'\u001B[39m)\n\u001B[32m    181\u001B[39m \u001B[38;5;28mself\u001B[39m._inLoop = \u001B[38;5;28;01mTrue\u001B[39;00m\n\u001B[32m    182\u001B[39m \u001B[38;5;28mself\u001B[39m._driverLoop = \u001B[38;5;28;01mTrue\u001B[39;00m\n",
      "\u001B[31mRuntimeError\u001B[39m: run loop already started"
     ]
    }
   ],
   "execution_count": 8
  },
  {
   "metadata": {},
   "cell_type": "markdown",
   "source": "# Simple Voice command",
   "id": "d4f9540730092974"
  },
  {
   "metadata": {},
   "cell_type": "code",
   "source": [
    "import speech_recognition as sr\n",
    "import subprocess\n",
    "\n",
    "# Initialize the recognizer\n",
    "recognizer = sr.Recognizer()\n",
    "\n",
    "# Function to listen to audio input and perform actions\n",
    "def listen_and_execute():\n",
    "    with sr.Microphone() as source:\n",
    "        print(\"Listening...\")\n",
    "        try:\n",
    "            audio = recognizer.listen(source, timeout=5)  # Adjust the timeout as needed\n",
    "            print(\"Processing...\")\n",
    "            # Use a speech recognition engine to convert audio to text\n",
    "            text = recognizer.recognize_google(audio)\n",
    "            print(\"You said:\", text)\n",
    "\n",
    "            # Define commands based on recognized text\n",
    "            if \"open notepad\" in text.lower():\n",
    "                subprocess.Popen([\"notepad.exe\"])\n",
    "            elif \"open calculator\" in text.lower():\n",
    "                subprocess.Popen([\"calc.exe\"])\n",
    "            # Add more commands as needed\n",
    "\n",
    "        except sr.WaitTimeoutError:\n",
    "            print(\"Timed out. No speech detected.\")\n",
    "        except sr.UnknownValueError:\n",
    "            print(\"Sorry, could not understand audio.\")\n",
    "        except Exception as e:\n",
    "            print(\"An error occurred:\", str(e))\n",
    "\n",
    "# Main loop for continuous listening\n",
    "while True:\n",
    "    listen_and_execute()"
   ],
   "id": "a53aa854eb1f452",
   "outputs": [],
   "execution_count": null
  },
  {
   "metadata": {},
   "cell_type": "code",
   "source": "",
   "id": "bbf8aadc240e4",
   "outputs": [],
   "execution_count": null
  }
 ],
 "metadata": {
  "kernelspec": {
   "display_name": "Python 3",
   "language": "python",
   "name": "python3"
  },
  "language_info": {
   "codemirror_mode": {
    "name": "ipython",
    "version": 2
   },
   "file_extension": ".py",
   "mimetype": "text/x-python",
   "name": "python",
   "nbconvert_exporter": "python",
   "pygments_lexer": "ipython2",
   "version": "2.7.6"
  }
 },
 "nbformat": 4,
 "nbformat_minor": 5
}
