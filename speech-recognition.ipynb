{
 "cells": [
  {
   "metadata": {},
   "cell_type": "markdown",
   "source": "# Speech to Text using speech_recognition",
   "id": "fb9f098d183b8fcb"
  },
  {
   "metadata": {},
   "cell_type": "code",
   "source": [
    "import speech_recognition as sr\n",
    "r = sr.Recognizer()\n",
    "\n",
    "# Use the default microphone as the audio source\n",
    "with sr.Microphone() as source:\n",
    "    print(\"Say something!\")\n",
    "    r.adjust_for_ambient_noise(source)\n",
    "    audio = r.listen(source)\n",
    "    print(\"Time over, thanks\")\n",
    "\n",
    "try:\n",
    "    text = r.recognize_google(audio)\n",
    "    print(f\"You said: {text}\")\n",
    "except sr.UnknownValueError:\n",
    "    print(\"Sorry, I did not get that\")\n",
    "except sr.RequestError as e:\n",
    "    print(f\"Could not request results from Google Speech Recognition service; {e}\")\n",
    "\n"
   ],
   "id": "98475baf3e7bb1d5",
   "outputs": [],
   "execution_count": null
  },
  {
   "metadata": {},
   "cell_type": "code",
   "source": [
    "for index, name in enumerate(sr.Microphone.list_microphone_names()):\n",
    "    print(\"Microphone with name \\\"{1}\\\" found for `Microphone(device_index={0})`\".format(index, name))"
   ],
   "id": "cefd48f9af972b11",
   "outputs": [],
   "execution_count": null
  },
  {
   "metadata": {},
   "cell_type": "markdown",
   "source": "# Text to Speech Using pyttsx3",
   "id": "45b89987a408519b"
  },
  {
   "metadata": {},
   "cell_type": "code",
   "source": "# pip install pypiwin32",
   "id": "b75d0ed593f9619a",
   "outputs": [],
   "execution_count": null
  },
  {
   "metadata": {},
   "cell_type": "code",
   "source": [
    "import pyttsx3\n",
    "engine = pyttsx3.init()"
   ],
   "id": "4a8248adcc4b1860",
   "outputs": [],
   "execution_count": null
  },
  {
   "metadata": {},
   "cell_type": "code",
   "source": [
    "rate = engine.getProperty('rate')\n",
    "engine.setProperty('rate', rate - 50)\n",
    "engine.setProperty('volume', 1)\n",
    "voices = engine.getProperty('voices')\n",
    "engine.setProperty('voice', voices[0].id)\n",
    "engine.runAndWait()"
   ],
   "id": "992f8292ad737911",
   "outputs": [],
   "execution_count": null
  },
  {
   "metadata": {},
   "cell_type": "code",
   "source": [
    "engine.say(\"Hello sir, set my meeting at 3:45:25 PM .\")\n",
    "engine.runAndWait()"
   ],
   "id": "a17ec4b317ccc633",
   "outputs": [],
   "execution_count": null
  },
  {
   "metadata": {},
   "cell_type": "markdown",
   "source": "### Chnaging Voice",
   "id": "b43dd0d76fce00f6"
  },
  {
   "metadata": {},
   "cell_type": "code",
   "source": [
    "engine = pyttsx3.init()\n",
    "voices = engine.getProperty('voices')\n",
    "for voice in voices:\n",
    "   engine.setProperty('voice', voice.id)\n",
    "   engine.say('The quick brown fox jumped over the lazy dog.')\n",
    "engine.runAndWait()"
   ],
   "id": "399759811365bb1c",
   "outputs": [],
   "execution_count": null
  },
  {
   "metadata": {},
   "cell_type": "markdown",
   "source": "# Simple Voice command",
   "id": "d4f9540730092974"
  },
  {
   "metadata": {},
   "cell_type": "code",
   "source": [
    "import speech_recognition as sr\n",
    "import subprocess\n",
    "\n",
    "# Initialize the recognizer\n",
    "recognizer = sr.Recognizer()\n",
    "\n",
    "# Function to listen to audio input and perform actions\n",
    "def listen_and_execute():\n",
    "    with sr.Microphone() as source:\n",
    "        print(\"Listening...\")\n",
    "        try:\n",
    "            audio = recognizer.listen(source, timeout=5)  # Adjust the timeout as needed\n",
    "            print(\"Processing...\")\n",
    "            # Use a speech recognition engine to convert audio to text\n",
    "            text = recognizer.recognize_google(audio)\n",
    "            print(\"You said:\", text)\n",
    "\n",
    "            # Define commands based on recognized text\n",
    "            if \"open notepad\" in text.lower():\n",
    "                subprocess.Popen([\"notepad.exe\"])\n",
    "            elif \"open calculator\" in text.lower():\n",
    "                subprocess.Popen([\"calc.exe\"])\n",
    "            # Add more commands as needed\n",
    "\n",
    "        except sr.WaitTimeoutError:\n",
    "            print(\"Timed out. No speech detected.\")\n",
    "        except sr.UnknownValueError:\n",
    "            print(\"Sorry, could not understand audio.\")\n",
    "        except Exception as e:\n",
    "            print(\"An error occurred:\", str(e))\n",
    "\n",
    "# Main loop for continuous listening\n",
    "while True:\n",
    "    listen_and_execute()"
   ],
   "id": "a53aa854eb1f452",
   "outputs": [],
   "execution_count": null
  },
  {
   "metadata": {},
   "cell_type": "code",
   "source": [
    "from transformers import pipeline\n",
    "\n",
    "# ✅ Recommended lightweight, fast model\n",
    "llm = pipeline(\"text-generation\", model=\"microsoft/phi-2\", max_new_tokens=256)\n",
    "\n",
    "# 🗣️ Sample input\n",
    "out = llm(\"Schedule a meeting with Riya tomorrow at 5 PM\")[0]['generated_text']\n",
    "\n",
    "# 🖨️ Print result\n",
    "print(out)\n"
   ],
   "id": "bbf8aadc240e4",
   "outputs": [],
   "execution_count": null
  },
  {
   "metadata": {},
   "cell_type": "code",
   "source": "x",
   "id": "b50325b3bec4559d",
   "outputs": [],
   "execution_count": null
  }
 ],
 "metadata": {
  "kernelspec": {
   "display_name": "Python 3",
   "language": "python",
   "name": "python3"
  },
  "language_info": {
   "codemirror_mode": {
    "name": "ipython",
    "version": 2
   },
   "file_extension": ".py",
   "mimetype": "text/x-python",
   "name": "python",
   "nbconvert_exporter": "python",
   "pygments_lexer": "ipython2",
   "version": "2.7.6"
  }
 },
 "nbformat": 4,
 "nbformat_minor": 5
}
