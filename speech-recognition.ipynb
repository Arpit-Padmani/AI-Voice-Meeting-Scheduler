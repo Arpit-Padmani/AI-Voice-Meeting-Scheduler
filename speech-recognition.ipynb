{
 "cells": [
  {
   "cell_type": "code",
   "id": "initial_id",
   "metadata": {
    "collapsed": true,
    "ExecuteTime": {
     "end_time": "2025-06-21T14:51:29.602738Z",
     "start_time": "2025-06-21T14:51:29.576727Z"
    }
   },
   "source": "print(\"Hello\")",
   "outputs": [
    {
     "name": "stdout",
     "output_type": "stream",
     "text": [
      "Hello\n"
     ]
    }
   ],
   "execution_count": 2
  },
  {
   "metadata": {
    "ExecuteTime": {
     "end_time": "2025-06-26T16:44:25.815455Z",
     "start_time": "2025-06-26T16:44:17.015199Z"
    }
   },
   "cell_type": "code",
   "source": [
    "import speech_recognition as sr\n",
    "r = sr.Recognizer()\n",
    "\n",
    "# Use the default microphone as the audio source\n",
    "with sr.Microphone() as source:\n",
    "    print(\"Say something!\")\n",
    "    r.adjust_for_ambient_noise(source)\n",
    "    audio = r.listen(source)\n",
    "    print(\"Time over, thanks\")\n",
    "\n",
    "try:\n",
    "    text = r.recognize_google(audio)\n",
    "    print(f\"You said: {text}\")\n",
    "except sr.UnknownValueError:\n",
    "    print(\"Sorry, I did not get that\")\n",
    "except sr.RequestError as e:\n",
    "    print(f\"Could not request results from Google Speech Recognition service; {e}\")\n",
    "\n"
   ],
   "id": "98475baf3e7bb1d5",
   "outputs": [
    {
     "name": "stdout",
     "output_type": "stream",
     "text": [
      "Say something!\n",
      "Time over, thanks\n",
      "You said: hello schedule Mein meeting at 3:00 p.m. tomorrow\n"
     ]
    }
   ],
   "execution_count": 2
  },
  {
   "metadata": {},
   "cell_type": "code",
   "outputs": [
    {
     "name": "stdout",
     "output_type": "stream",
     "text": [
      "Microphone with name \"Microsoft Sound Mapper - Input\" found for `Microphone(device_index=0)`\n",
      "Microphone with name \"Microphone (Realtek(R) Audio)\" found for `Microphone(device_index=1)`\n",
      "Microphone with name \"Headset (Airdopes 141)\" found for `Microphone(device_index=2)`\n",
      "Microphone with name \"Microsoft Sound Mapper - Output\" found for `Microphone(device_index=3)`\n",
      "Microphone with name \"Headphones (Airdopes 141)\" found for `Microphone(device_index=4)`\n",
      "Microphone with name \"Speakers (Realtek(R) Audio)\" found for `Microphone(device_index=5)`\n",
      "Microphone with name \"Primary Sound Capture Driver\" found for `Microphone(device_index=6)`\n",
      "Microphone with name \"Microphone (Realtek(R) Audio)\" found for `Microphone(device_index=7)`\n",
      "Microphone with name \"Headset (Airdopes 141)\" found for `Microphone(device_index=8)`\n",
      "Microphone with name \"Primary Sound Driver\" found for `Microphone(device_index=9)`\n",
      "Microphone with name \"Headphones (Airdopes 141)\" found for `Microphone(device_index=10)`\n",
      "Microphone with name \"Speakers (Realtek(R) Audio)\" found for `Microphone(device_index=11)`\n",
      "Microphone with name \"Headphones (Airdopes 141)\" found for `Microphone(device_index=12)`\n",
      "Microphone with name \"Speakers (Realtek(R) Audio)\" found for `Microphone(device_index=13)`\n",
      "Microphone with name \"Microphone (Realtek(R) Audio)\" found for `Microphone(device_index=14)`\n",
      "Microphone with name \"Headset (Airdopes 141)\" found for `Microphone(device_index=15)`\n",
      "Microphone with name \"Microphone (Realtek HD Audio Mic input)\" found for `Microphone(device_index=16)`\n",
      "Microphone with name \"Speakers 1 (Realtek HD Audio output with HAP)\" found for `Microphone(device_index=17)`\n",
      "Microphone with name \"Speakers 2 (Realtek HD Audio output with HAP)\" found for `Microphone(device_index=18)`\n",
      "Microphone with name \"PC Speaker (Realtek HD Audio output with HAP)\" found for `Microphone(device_index=19)`\n",
      "Microphone with name \"Microphone (Realtek Digital Microphone)\" found for `Microphone(device_index=20)`\n",
      "Microphone with name \"Headphones (Realtek HD Audio 2nd output)\" found for `Microphone(device_index=21)`\n",
      "Microphone with name \"Stereo Mix (Realtek HD Audio Stereo input)\" found for `Microphone(device_index=22)`\n",
      "Microphone with name \"Headset (@System32\\drivers\\bthhfenum.sys,#2;%1 Hands-Free%0\r\n",
      ";(Airdopes 141))\" found for `Microphone(device_index=23)`\n",
      "Microphone with name \"Headset (@System32\\drivers\\bthhfenum.sys,#2;%1 Hands-Free%0\r\n",
      ";(Airdopes 141))\" found for `Microphone(device_index=24)`\n",
      "Microphone with name \"Headset (@System32\\drivers\\bthhfenum.sys,#2;%1 Hands-Free%0\r\n",
      ";(realme Buds T300))\" found for `Microphone(device_index=25)`\n",
      "Microphone with name \"Headset (@System32\\drivers\\bthhfenum.sys,#2;%1 Hands-Free%0\r\n",
      ";(realme Buds T300))\" found for `Microphone(device_index=26)`\n",
      "Microphone with name \"Headphones ()\" found for `Microphone(device_index=27)`\n",
      "Microphone with name \"Headphones ()\" found for `Microphone(device_index=28)`\n",
      "Microphone with name \"Output (@System32\\drivers\\bthhfenum.sys,#4;%1 Hands-Free HF Audio%0\r\n",
      ";(Redmi 9 Power))\" found for `Microphone(device_index=29)`\n",
      "Microphone with name \"Input (@System32\\drivers\\bthhfenum.sys,#4;%1 Hands-Free HF Audio%0\r\n",
      ";(Redmi 9 Power))\" found for `Microphone(device_index=30)`\n",
      "Microphone with name \"Headphones ()\" found for `Microphone(device_index=31)`\n",
      "Microphone with name \"Headset (@System32\\drivers\\bthhfenum.sys,#2;%1 Hands-Free%0\r\n",
      ";(Stone 180))\" found for `Microphone(device_index=32)`\n",
      "Microphone with name \"Headset (@System32\\drivers\\bthhfenum.sys,#2;%1 Hands-Free%0\r\n",
      ";(Stone 180))\" found for `Microphone(device_index=33)`\n",
      "Microphone with name \"Headphones ()\" found for `Microphone(device_index=34)`\n",
      "Microphone with name \"Headset (@System32\\drivers\\bthhfenum.sys,#2;%1 Hands-Free%0\r\n",
      ";(Airdopes 141))\" found for `Microphone(device_index=35)`\n",
      "Microphone with name \"Headset (@System32\\drivers\\bthhfenum.sys,#2;%1 Hands-Free%0\r\n",
      ";(Airdopes 141))\" found for `Microphone(device_index=36)`\n",
      "Microphone with name \"Input ()\" found for `Microphone(device_index=37)`\n"
     ]
    }
   ],
   "execution_count": 3,
   "source": [
    "for index, name in enumerate(sr.Microphone.list_microphone_names()):\n",
    "    print(\"Microphone with name \\\"{1}\\\" found for `Microphone(device_index={0})`\".format(index, name))"
   ],
   "id": "cefd48f9af972b11"
  },
  {
   "metadata": {},
   "cell_type": "markdown",
   "source": [
    "# Installation for NLTK\n",
    "\n",
    "## 1) pip install nltk\n",
    "## 2) import nltk\n",
    "## 3) nltk.download()"
   ],
   "id": "d414b622d5c11243"
  },
  {
   "metadata": {},
   "cell_type": "code",
   "outputs": [],
   "execution_count": 5,
   "source": "x = 'Natural language processing (NLP) is a subfield of computer science and especially artificial intelligence. It is primarily concerned with providing computers with the ability to process data encoded in natural language and is thus closely related to information retrieval, knowledge representation and computational linguistics, a subfield of linguistics.'",
   "id": "c296eeea243ec23c"
  },
  {
   "metadata": {},
   "cell_type": "code",
   "outputs": [
    {
     "name": "stdout",
     "output_type": "stream",
     "text": [
      "Collecting nltk\n",
      "  Using cached nltk-3.9.1-py3-none-any.whl.metadata (2.9 kB)\n",
      "Collecting click (from nltk)\n",
      "  Downloading click-8.2.1-py3-none-any.whl.metadata (2.5 kB)\n",
      "Collecting joblib (from nltk)\n",
      "  Downloading joblib-1.5.1-py3-none-any.whl.metadata (5.6 kB)\n",
      "Collecting regex>=2021.8.3 (from nltk)\n",
      "  Downloading regex-2024.11.6-cp312-cp312-win_amd64.whl.metadata (41 kB)\n",
      "Collecting tqdm (from nltk)\n",
      "  Using cached tqdm-4.67.1-py3-none-any.whl.metadata (57 kB)\n",
      "Requirement already satisfied: colorama in e:\\speech recognition python\\.venv\\lib\\site-packages (from click->nltk) (0.4.6)\n",
      "Using cached nltk-3.9.1-py3-none-any.whl (1.5 MB)\n",
      "Downloading regex-2024.11.6-cp312-cp312-win_amd64.whl (273 kB)\n",
      "Downloading click-8.2.1-py3-none-any.whl (102 kB)\n",
      "Downloading joblib-1.5.1-py3-none-any.whl (307 kB)\n",
      "Using cached tqdm-4.67.1-py3-none-any.whl (78 kB)\n",
      "Installing collected packages: tqdm, regex, joblib, click, nltk\n",
      "Successfully installed click-8.2.1 joblib-1.5.1 nltk-3.9.1 regex-2024.11.6 tqdm-4.67.1\n",
      "Note: you may need to restart the kernel to use updated packages.\n"
     ]
    },
    {
     "name": "stderr",
     "output_type": "stream",
     "text": [
      "\n",
      "[notice] A new release of pip is available: 25.0.1 -> 25.1.1\n",
      "[notice] To update, run: python.exe -m pip install --upgrade pip\n"
     ]
    }
   ],
   "execution_count": 4,
   "source": "pip install nltk",
   "id": "812243156cf170de"
  },
  {
   "metadata": {},
   "cell_type": "code",
   "outputs": [],
   "execution_count": 6,
   "source": "from nltk.tokenize import word_tokenize",
   "id": "320c3dc662285f32"
  },
  {
   "metadata": {},
   "cell_type": "code",
   "outputs": [],
   "execution_count": 7,
   "source": "w=word_tokenize(x)",
   "id": "5bf7efc1e3ce8129"
  },
  {
   "metadata": {},
   "cell_type": "code",
   "outputs": [
    {
     "data": {
      "text/plain": [
       "['Natural',\n",
       " 'language',\n",
       " 'processing',\n",
       " '(',\n",
       " 'NLP',\n",
       " ')',\n",
       " 'is',\n",
       " 'a',\n",
       " 'subfield',\n",
       " 'of',\n",
       " 'computer',\n",
       " 'science',\n",
       " 'and',\n",
       " 'especially',\n",
       " 'artificial',\n",
       " 'intelligence',\n",
       " '.',\n",
       " 'It',\n",
       " 'is',\n",
       " 'primarily',\n",
       " 'concerned',\n",
       " 'with',\n",
       " 'providing',\n",
       " 'computers',\n",
       " 'with',\n",
       " 'the',\n",
       " 'ability',\n",
       " 'to',\n",
       " 'process',\n",
       " 'data',\n",
       " 'encoded',\n",
       " 'in',\n",
       " 'natural',\n",
       " 'language',\n",
       " 'and',\n",
       " 'is',\n",
       " 'thus',\n",
       " 'closely',\n",
       " 'related',\n",
       " 'to',\n",
       " 'information',\n",
       " 'retrieval',\n",
       " ',',\n",
       " 'knowledge',\n",
       " 'representation',\n",
       " 'and',\n",
       " 'computational',\n",
       " 'linguistics',\n",
       " ',',\n",
       " 'a',\n",
       " 'subfield',\n",
       " 'of',\n",
       " 'linguistics',\n",
       " '.']"
      ]
     },
     "execution_count": 8,
     "metadata": {},
     "output_type": "execute_result"
    }
   ],
   "execution_count": 8,
   "source": "w",
   "id": "47978016703e10b4"
  },
  {
   "metadata": {},
   "cell_type": "code",
   "outputs": [],
   "execution_count": 9,
   "source": "from nltk import pos_tag\n",
   "id": "7fa2748ad5762fd3"
  },
  {
   "metadata": {},
   "cell_type": "code",
   "outputs": [],
   "execution_count": 11,
   "source": "p=pos_tag(w)",
   "id": "ff68962d33f0e94d"
  },
  {
   "metadata": {},
   "cell_type": "code",
   "outputs": [
    {
     "data": {
      "text/plain": [
       "[('Natural', 'JJ'),\n",
       " ('language', 'NN'),\n",
       " ('processing', 'NN'),\n",
       " ('(', '('),\n",
       " ('NLP', 'NNP'),\n",
       " (')', ')'),\n",
       " ('is', 'VBZ'),\n",
       " ('a', 'DT'),\n",
       " ('subfield', 'NN'),\n",
       " ('of', 'IN'),\n",
       " ('computer', 'NN'),\n",
       " ('science', 'NN'),\n",
       " ('and', 'CC'),\n",
       " ('especially', 'RB'),\n",
       " ('artificial', 'JJ'),\n",
       " ('intelligence', 'NN'),\n",
       " ('.', '.'),\n",
       " ('It', 'PRP'),\n",
       " ('is', 'VBZ'),\n",
       " ('primarily', 'RB'),\n",
       " ('concerned', 'VBN'),\n",
       " ('with', 'IN'),\n",
       " ('providing', 'VBG'),\n",
       " ('computers', 'NNS'),\n",
       " ('with', 'IN'),\n",
       " ('the', 'DT'),\n",
       " ('ability', 'NN'),\n",
       " ('to', 'TO'),\n",
       " ('process', 'VB'),\n",
       " ('data', 'NNS'),\n",
       " ('encoded', 'VBN'),\n",
       " ('in', 'IN'),\n",
       " ('natural', 'JJ'),\n",
       " ('language', 'NN'),\n",
       " ('and', 'CC'),\n",
       " ('is', 'VBZ'),\n",
       " ('thus', 'RB'),\n",
       " ('closely', 'RB'),\n",
       " ('related', 'JJ'),\n",
       " ('to', 'TO'),\n",
       " ('information', 'NN'),\n",
       " ('retrieval', 'NN'),\n",
       " (',', ','),\n",
       " ('knowledge', 'NN'),\n",
       " ('representation', 'NN'),\n",
       " ('and', 'CC'),\n",
       " ('computational', 'JJ'),\n",
       " ('linguistics', 'NNS'),\n",
       " (',', ','),\n",
       " ('a', 'DT'),\n",
       " ('subfield', 'NN'),\n",
       " ('of', 'IN'),\n",
       " ('linguistics', 'NNS'),\n",
       " ('.', '.')]"
      ]
     },
     "execution_count": 12,
     "metadata": {},
     "output_type": "execute_result"
    }
   ],
   "execution_count": 12,
   "source": "p",
   "id": "e8e57db40d4d766e"
  },
  {
   "metadata": {},
   "cell_type": "code",
   "outputs": [
    {
     "name": "stdout",
     "output_type": "stream",
     "text": [
      "['Natural language processing (NLP) is a field of computer science, artificial intelligence and computational linguistics concerned with the interactions between computers and human (natural) languages, and, in particular, concerned with programming computers to fruitfully process large natural language corpora.', 'Challenges in natural language processing frequently involve natural language understanding, natural language generation (frequently from formal, machine-readable logical forms), connecting language and machine perception, managing human-computer dialog systems, or some combination thereof.']\n",
      "['Natural', 'language', 'processing', '(', 'NLP', ')', 'is', 'a', 'field', 'of', 'computer', 'science', ',', 'artificial', 'intelligence', 'and', 'computational', 'linguistics', 'concerned', 'with', 'the', 'interactions', 'between', 'computers', 'and', 'human', '(', 'natural', ')', 'languages', ',', 'and', ',', 'in', 'particular', ',', 'concerned', 'with', 'programming', 'computers', 'to', 'fruitfully', 'process', 'large', 'natural', 'language', 'corpora', '.', 'Challenges', 'in', 'natural', 'language', 'processing', 'frequently', 'involve', 'natural', 'language', 'understanding', ',', 'natural', 'language', 'generation', '(', 'frequently', 'from', 'formal', ',', 'machine-readable', 'logical', 'forms', ')', ',', 'connecting', 'language', 'and', 'machine', 'perception', ',', 'managing', 'human-computer', 'dialog', 'systems', ',', 'or', 'some', 'combination', 'thereof', '.']\n"
     ]
    }
   ],
   "execution_count": 13,
   "source": [
    "# import the existing word and sentence tokenizing\n",
    "# libraries\n",
    "from nltk.tokenize import sent_tokenize, word_tokenize\n",
    "\n",
    "text = \"Natural language processing (NLP) is a field of computer science, artificial intelligence and computational linguistics concerned with the interactions between computers and human (natural) languages, and, in particular, concerned with programming computers to fruitfully process large natural language corpora. Challenges in natural language processing frequently involve natural language understanding, natural language generation (frequently from formal, machine-readable logical forms), connecting language and machine perception, managing human-computer dialog systems, or some combination thereof.\"\n",
    "\n",
    "print(sent_tokenize(text))\n",
    "print(word_tokenize(text))"
   ],
   "id": "fa77e35e8c7e0335"
  },
  {
   "metadata": {},
   "cell_type": "markdown",
   "source": "# Stemming",
   "id": "d04930971d54666b"
  },
  {
   "metadata": {
    "ExecuteTime": {
     "end_time": "2025-06-27T17:56:53.503847Z",
     "start_time": "2025-06-27T17:56:50.767452Z"
    }
   },
   "cell_type": "code",
   "source": [
    "from nltk.stem import PorterStemmer\n",
    "\n",
    "# create an object of class PorterStemmer\n",
    "porter = PorterStemmer()\n",
    "print(porter.stem(\"play\"))\n",
    "print(porter.stem(\"playing\"))\n",
    "print(porter.stem(\"plays\"))\n",
    "print(porter.stem(\"played\"))"
   ],
   "id": "9277f13d6f40ac49",
   "outputs": [
    {
     "name": "stdout",
     "output_type": "stream",
     "text": [
      "play\n",
      "play\n",
      "play\n",
      "play\n"
     ]
    }
   ],
   "execution_count": 1
  }
 ],
 "metadata": {
  "kernelspec": {
   "display_name": "Python 3",
   "language": "python",
   "name": "python3"
  },
  "language_info": {
   "codemirror_mode": {
    "name": "ipython",
    "version": 2
   },
   "file_extension": ".py",
   "mimetype": "text/x-python",
   "name": "python",
   "nbconvert_exporter": "python",
   "pygments_lexer": "ipython2",
   "version": "2.7.6"
  }
 },
 "nbformat": 4,
 "nbformat_minor": 5
}
