{
 "cells": [
  {
   "cell_type": "code",
   "id": "initial_id",
   "metadata": {
    "collapsed": true,
    "ExecuteTime": {
     "end_time": "2025-07-01T17:36:46.062297Z",
     "start_time": "2025-07-01T17:36:46.044605Z"
    }
   },
   "source": [
    "import spacy\n",
    "import dateparser\n",
    "from google_calendar_module import GoogleCalendarAPI"
   ],
   "outputs": [],
   "execution_count": 2
  },
  {
   "metadata": {
    "ExecuteTime": {
     "end_time": "2025-07-01T17:36:50.676360Z",
     "start_time": "2025-07-01T17:36:48.115357Z"
    }
   },
   "cell_type": "code",
   "source": "nlp = spacy.load(\"en_core_web_sm\")",
   "id": "7e5c787bd21fe223",
   "outputs": [],
   "execution_count": 3
  },
  {
   "metadata": {
    "ExecuteTime": {
     "end_time": "2025-07-01T17:37:18.536252Z",
     "start_time": "2025-07-01T17:37:03.613631Z"
    }
   },
   "cell_type": "code",
   "source": [
    "import speech_recognition as sr\n",
    "r = sr.Recognizer()\n",
    "\n",
    "# Use the default microphone as the audio source\n",
    "with sr.Microphone() as source:\n",
    "    print(\"Say something!\")\n",
    "    r.adjust_for_ambient_noise(source)\n",
    "    audio = r.listen(source)\n",
    "    print(\"Time over, thanks\")\n",
    "text=\"\"\n",
    "try:\n",
    "    text = r.recognize_google(audio)\n",
    "    print(f\"You said: {text}\")\n",
    "except sr.UnknownValueError:\n",
    "    print(\"Sorry, I did not get that\")\n",
    "except sr.RequestError as e:\n",
    "    print(f\"Could not request results from Google Speech Recognition service; {e}\")\n",
    "\n"
   ],
   "id": "a7211e8bc5450aed",
   "outputs": [
    {
     "name": "stdout",
     "output_type": "stream",
     "text": [
      "Say something!\n",
      "Time over, thanks\n",
      "You said: schedule my meeting at 4:00 p.m. with me tomorrow\n"
     ]
    }
   ],
   "execution_count": 4
  },
  {
   "metadata": {
    "ExecuteTime": {
     "end_time": "2025-07-01T17:37:43.628242Z",
     "start_time": "2025-07-01T17:37:33.829149Z"
    }
   },
   "cell_type": "code",
   "source": [
    "meeting_book_keywords = [\"schedule\", \"set up\", \"book\", \"arrange\", \"add meeting\", \"plan\"]\n",
    "# Static recognized sentence (like from speech input)\n",
    "# text = \"Schedule my meeting with Raj at tomorrow at 4 pm \"\n",
    "lower_text = text.lower()\n",
    "\n",
    "# Initialize dictionary to hold extracted data\n",
    "meeting_info = {\n",
    "    \"intent\": None,\n",
    "    \"title\": None,\n",
    "    \"person\": None,\n",
    "    \"raw_date_time\": None,\n",
    "    \"datetime\": None\n",
    "}\n",
    "\n",
    "# Check if it's a scheduling-related sentence\n",
    "if any(keyword in lower_text for keyword in meeting_book_keywords):\n",
    "    meeting_info[\"intent\"] = \"schedule_meeting\"\n",
    "    doc = nlp(text)\n",
    "\n",
    "    date_str = \"\"\n",
    "\n",
    "    for ent in doc.ents:\n",
    "        if ent.label_ in [\"DATE\", \"TIME\"]:\n",
    "            date_str += ent.text + \" \"\n",
    "        elif ent.label_ == \"PERSON\":\n",
    "            meeting_info[\"person\"] = ent.text\n",
    "\n",
    "    meeting_info[\"raw_date_time\"] = date_str.strip()\n",
    "    meeting_info[\"datetime\"] = str(dateparser.parse(date_str.strip()))\n",
    "\n",
    "    # Optional: set title using person if found\n",
    "    if meeting_info[\"person\"]:\n",
    "        meeting_info[\"title\"] = f\"Meeting with {meeting_info['person']}\"\n",
    "    else:\n",
    "        meeting_info[\"title\"] = \"Scheduled Meeting\"\n",
    "    print(meeting_info)\n",
    "    googleCelender = GoogleCalendarAPI()\n",
    "    googleCelender.insertEventToGooleCelender(meeting_info)\n",
    "    print(\"---\"*10)\n",
    "    googleCelender.getAllEvenets()\n",
    "\n"
   ],
   "id": "dcb5a2541d400e9c",
   "outputs": [
    {
     "name": "stdout",
     "output_type": "stream",
     "text": [
      "{'intent': 'schedule_meeting', 'title': 'Scheduled Meeting', 'person': None, 'raw_date_time': '4:00 p.m. tomorrow', 'datetime': '2025-07-02 16:00:00'}\n",
      "Event fetched successfully:\n",
      "{'kind': 'calendar#event', 'etag': '\"3502782910997822\"', 'id': '0ilpu4sgbi96otq3pv09m7fubs', 'status': 'confirmed', 'htmlLink': 'https://www.google.com/calendar/event?eid=MGlscHU0c2diaTk2b3RxM3B2MDltN2Z1YnMgYXJwaXRwYWRtYW5pMTk3QG0', 'created': '2025-07-01T17:37:35.000Z', 'updated': '2025-07-01T17:37:35.498Z', 'summary': 'Scheduled Meeting', 'creator': {'email': 'arpitpadmani197@gmail.com', 'self': True}, 'organizer': {'email': 'arpitpadmani197@gmail.com', 'self': True}, 'start': {'dateTime': '2025-07-02T16:00:00+05:30', 'timeZone': 'America/Los_Angeles'}, 'end': {'dateTime': '2025-07-03T04:00:00+05:30', 'timeZone': 'America/Los_Angeles'}, 'iCalUID': '0ilpu4sgbi96otq3pv09m7fubs@google.com', 'sequence': 0, 'reminders': {'useDefault': True}, 'eventType': 'default'}\n",
      "------------------------------\n",
      "Getting the upcoming 10 events\n",
      "2025-07-01T16:00:00+05:30 Meeting with Raj\n",
      "2025-07-01T16:00:00+05:30 Meeting with Raj\n",
      "2025-07-02T16:00:00+05:30 Scheduled Meeting\n",
      "2025-07-02T16:00:00+05:30 Scheduled Meeting\n",
      "2025-07-04T16:00:00+05:30 Scheduled Meeting\n",
      "2025-07-04T16:00:00+05:30 Scheduled Meeting\n",
      "2025-07-18T15:00:00+05:30 call pravinbhai for collect deposite \n",
      "2026-04-01T15:00:00+05:30 Kerol turf last day renewal server only\n",
      "2026-05-01T15:00:00+05:30 Kerol turf last day renewal server only\n"
     ]
    }
   ],
   "execution_count": 5
  },
  {
   "metadata": {},
   "cell_type": "code",
   "source": "",
   "id": "de8627b0ceebdbde",
   "outputs": [],
   "execution_count": null
  },
  {
   "metadata": {},
   "cell_type": "code",
   "source": "!pip install nbimporter\n",
   "id": "98f19f112581b945",
   "outputs": [],
   "execution_count": null
  },
  {
   "metadata": {},
   "cell_type": "code",
   "source": "",
   "id": "1704cd06a6226422",
   "outputs": [],
   "execution_count": null
  },
  {
   "metadata": {},
   "cell_type": "code",
   "source": "",
   "id": "1975f9b51475fa1d",
   "outputs": [],
   "execution_count": null
  }
 ],
 "metadata": {
  "kernelspec": {
   "display_name": "Python 3",
   "language": "python",
   "name": "python3"
  },
  "language_info": {
   "codemirror_mode": {
    "name": "ipython",
    "version": 2
   },
   "file_extension": ".py",
   "mimetype": "text/x-python",
   "name": "python",
   "nbconvert_exporter": "python",
   "pygments_lexer": "ipython2",
   "version": "2.7.6"
  }
 },
 "nbformat": 4,
 "nbformat_minor": 5
}
