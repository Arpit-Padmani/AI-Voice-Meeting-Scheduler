{
 "cells": [
  {
   "cell_type": "code",
   "id": "initial_id",
   "metadata": {
    "collapsed": true,
    "ExecuteTime": {
     "end_time": "2025-06-30T13:49:47.765361Z",
     "start_time": "2025-06-30T13:49:45.265060Z"
    }
   },
   "source": [
    "import spacy\n",
    "import dateparser"
   ],
   "outputs": [],
   "execution_count": 37
  },
  {
   "metadata": {
    "ExecuteTime": {
     "end_time": "2025-06-30T13:01:28.700563Z",
     "start_time": "2025-06-30T13:01:24.342040Z"
    }
   },
   "cell_type": "code",
   "source": "nlp = spacy.load(\"en_core_web_sm\")",
   "id": "7e5c787bd21fe223",
   "outputs": [],
   "execution_count": 26
  },
  {
   "metadata": {
    "ExecuteTime": {
     "end_time": "2025-06-30T13:49:59.263544Z",
     "start_time": "2025-06-30T13:49:59.053147Z"
    }
   },
   "cell_type": "code",
   "source": [
    "meeting_book_keywords = [\"schedule\", \"set up\", \"book\", \"arrange\", \"add meeting\", \"plan\"]\n",
    "# Static recognized sentence (like from speech input)\n",
    "text = \"Schedule my meeting with Raj at tomorrow at 4 pm \"\n",
    "lower_text = text.lower()\n",
    "\n",
    "# Initialize dictionary to hold extracted data\n",
    "meeting_info = {\n",
    "    \"intent\": None,\n",
    "    \"title\": None,\n",
    "    \"person\": None,\n",
    "    \"raw_date_time\": None,\n",
    "    \"datetime\": None\n",
    "}\n",
    "\n",
    "# Check if it's a scheduling-related sentence\n",
    "if any(keyword in lower_text for keyword in meeting_book_keywords):\n",
    "    meeting_info[\"intent\"] = \"schedule_meeting\"\n",
    "    doc = nlp(text)\n",
    "\n",
    "    date_str = \"\"\n",
    "\n",
    "    for ent in doc.ents:\n",
    "        if ent.label_ in [\"DATE\", \"TIME\"]:\n",
    "            date_str += ent.text + \" \"\n",
    "        elif ent.label_ == \"PERSON\":\n",
    "            meeting_info[\"person\"] = ent.text\n",
    "\n",
    "    meeting_info[\"raw_date_time\"] = date_str.strip()\n",
    "    meeting_info[\"datetime\"] = str(dateparser.parse(date_str.strip()))\n",
    "\n",
    "    # Optional: set title using person if found\n",
    "    if meeting_info[\"person\"]:\n",
    "        meeting_info[\"title\"] = f\"Meeting with {meeting_info['person']}\"\n",
    "    else:\n",
    "        meeting_info[\"title\"] = \"Scheduled Meeting\"\n",
    "\n"
   ],
   "id": "dcb5a2541d400e9c",
   "outputs": [
    {
     "data": {
      "text/plain": [
       "{'intent': 'schedule_meeting',\n",
       " 'title': 'Meeting with Raj',\n",
       " 'person': 'Raj',\n",
       " 'raw_date_time': 'tomorrow 4 pm',\n",
       " 'datetime': '2025-07-01 16:00:00'}"
      ]
     },
     "execution_count": 39,
     "metadata": {},
     "output_type": "execute_result"
    }
   ],
   "execution_count": 39
  },
  {
   "metadata": {},
   "cell_type": "code",
   "outputs": [],
   "execution_count": null,
   "source": "",
   "id": "de8627b0ceebdbde"
  }
 ],
 "metadata": {
  "kernelspec": {
   "display_name": "Python 3",
   "language": "python",
   "name": "python3"
  },
  "language_info": {
   "codemirror_mode": {
    "name": "ipython",
    "version": 2
   },
   "file_extension": ".py",
   "mimetype": "text/x-python",
   "name": "python",
   "nbconvert_exporter": "python",
   "pygments_lexer": "ipython2",
   "version": "2.7.6"
  }
 },
 "nbformat": 4,
 "nbformat_minor": 5
}
