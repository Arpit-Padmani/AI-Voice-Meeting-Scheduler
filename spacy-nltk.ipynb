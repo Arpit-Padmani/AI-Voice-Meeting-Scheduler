{
 "cells": [
  {
   "cell_type": "code",
   "id": "initial_id",
   "metadata": {
    "collapsed": true,
    "ExecuteTime": {
     "end_time": "2025-06-30T14:33:44.569584Z",
     "start_time": "2025-06-30T14:33:38.919210Z"
    }
   },
   "source": [
    "import spacy\n",
    "import dateparser\n",
    "from google_calendar_module import GoogleCalendarAPI"
   ],
   "outputs": [],
   "execution_count": 1
  },
  {
   "metadata": {
    "ExecuteTime": {
     "end_time": "2025-06-30T14:33:47.063509Z",
     "start_time": "2025-06-30T14:33:44.644626Z"
    }
   },
   "cell_type": "code",
   "source": "nlp = spacy.load(\"en_core_web_sm\")",
   "id": "7e5c787bd21fe223",
   "outputs": [],
   "execution_count": 2
  },
  {
   "metadata": {
    "ExecuteTime": {
     "end_time": "2025-06-30T14:38:15.571321Z",
     "start_time": "2025-06-30T14:38:11.906768Z"
    }
   },
   "cell_type": "code",
   "source": [
    "meeting_book_keywords = [\"schedule\", \"set up\", \"book\", \"arrange\", \"add meeting\", \"plan\"]\n",
    "# Static recognized sentence (like from speech input)\n",
    "text = \"Schedule my meeting with Raj at tomorrow at 4 pm \"\n",
    "lower_text = text.lower()\n",
    "\n",
    "# Initialize dictionary to hold extracted data\n",
    "meeting_info = {\n",
    "    \"intent\": None,\n",
    "    \"title\": None,\n",
    "    \"person\": None,\n",
    "    \"raw_date_time\": None,\n",
    "    \"datetime\": None\n",
    "}\n",
    "\n",
    "# Check if it's a scheduling-related sentence\n",
    "if any(keyword in lower_text for keyword in meeting_book_keywords):\n",
    "    meeting_info[\"intent\"] = \"schedule_meeting\"\n",
    "    doc = nlp(text)\n",
    "\n",
    "    date_str = \"\"\n",
    "\n",
    "    for ent in doc.ents:\n",
    "        if ent.label_ in [\"DATE\", \"TIME\"]:\n",
    "            date_str += ent.text + \" \"\n",
    "        elif ent.label_ == \"PERSON\":\n",
    "            meeting_info[\"person\"] = ent.text\n",
    "\n",
    "    meeting_info[\"raw_date_time\"] = date_str.strip()\n",
    "    meeting_info[\"datetime\"] = str(dateparser.parse(date_str.strip()))\n",
    "\n",
    "    # Optional: set title using person if found\n",
    "    if meeting_info[\"person\"]:\n",
    "        meeting_info[\"title\"] = f\"Meeting with {meeting_info['person']}\"\n",
    "    else:\n",
    "        meeting_info[\"title\"] = \"Scheduled Meeting\"\n",
    "    # print(meeting_info)\n",
    "    googleCelender = GoogleCalendarAPI()\n",
    "    googleCelender.insertEventToGooleCelender(meeting_info)\n",
    "    print(\"---\"*10)\n",
    "    googleCelender.getAllEvenets()\n",
    "\n"
   ],
   "id": "dcb5a2541d400e9c",
   "outputs": [
    {
     "name": "stdout",
     "output_type": "stream",
     "text": [
      "-----------------------------------\n",
      "2025-07-01 16:00:00\n",
      "-----------------------------------\n",
      "Start Time after Convert :  2025-07-01T16:00:00+05:30\n",
      "End Date Time after Convert :  2025-07-02T04:00:00+05:30\n",
      "-----------------------------------\n",
      "Event created: https://www.google.com/calendar/event?eid=czZqODliazlqM3F1bjZkbW9tYWRtZ2kxZjggYXJwaXRwYWRtYW5pMTk3QG0\n",
      "------------------------------\n",
      "Getting the upcoming 10 events\n",
      "2025-07-01T16:00:00+05:30 Meeting with Raj\n",
      "2025-07-01T16:00:00+05:30 Meeting with Raj\n",
      "2025-07-01T16:00:00+05:30 Meeting with Raj\n",
      "2025-07-01T16:00:00+05:30 Meeting with Raj\n",
      "2025-07-01T16:00:00+05:30 Meeting with Raj\n",
      "2025-07-18T15:00:00+05:30 call pravinbhai for collect deposite \n",
      "2026-04-01T15:00:00+05:30 Kerol turf last day renewal server only\n",
      "2026-05-01T15:00:00+05:30 Kerol turf last day renewal server only\n"
     ]
    }
   ],
   "execution_count": 4
  },
  {
   "metadata": {},
   "cell_type": "code",
   "source": "",
   "id": "de8627b0ceebdbde",
   "outputs": [],
   "execution_count": null
  },
  {
   "metadata": {},
   "cell_type": "code",
   "source": "!pip install nbimporter\n",
   "id": "98f19f112581b945",
   "outputs": [],
   "execution_count": null
  },
  {
   "metadata": {},
   "cell_type": "code",
   "source": "",
   "id": "1704cd06a6226422",
   "outputs": [],
   "execution_count": null
  },
  {
   "metadata": {},
   "cell_type": "code",
   "source": "",
   "id": "1975f9b51475fa1d",
   "outputs": [],
   "execution_count": null
  }
 ],
 "metadata": {
  "kernelspec": {
   "display_name": "Python 3",
   "language": "python",
   "name": "python3"
  },
  "language_info": {
   "codemirror_mode": {
    "name": "ipython",
    "version": 2
   },
   "file_extension": ".py",
   "mimetype": "text/x-python",
   "name": "python",
   "nbconvert_exporter": "python",
   "pygments_lexer": "ipython2",
   "version": "2.7.6"
  }
 },
 "nbformat": 4,
 "nbformat_minor": 5
}
